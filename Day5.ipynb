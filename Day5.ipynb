{
  "nbformat": 4,
  "nbformat_minor": 0,
  "metadata": {
    "colab": {
      "name": "Day5.ipynb",
      "provenance": [],
      "collapsed_sections": [],
      "mount_file_id": "1Bvv0zknWR89TvdFvjtdaSZWQzmE3wvQY",
      "authorship_tag": "ABX9TyN1O+4oGIb6FVK2yFnBgfps",
      "include_colab_link": true
    },
    "kernelspec": {
      "name": "python3",
      "display_name": "Python 3"
    },
    "accelerator": "GPU"
  },
  "cells": [
    {
      "cell_type": "markdown",
      "metadata": {
        "id": "view-in-github",
        "colab_type": "text"
      },
      "source": [
        "<a href=\"https://colab.research.google.com/github/arfild/dw_matrix/blob/master/Day5.ipynb\" target=\"_parent\"><img src=\"https://colab.research.google.com/assets/colab-badge.svg\" alt=\"Open In Colab\"/></a>"
      ]
    },
    {
      "cell_type": "code",
      "metadata": {
        "id": "PY_x1dcS7mVy",
        "colab_type": "code",
        "colab": {
          "base_uri": "https://localhost:8080/",
          "height": 183
        },
        "outputId": "f9028ae7-d4bf-499c-e57e-acdb8df9dcea"
      },
      "source": [
        "!pip install hyperopt"
      ],
      "execution_count": 16,
      "outputs": [
        {
          "output_type": "stream",
          "text": [
            "Requirement already satisfied: hyperopt in /usr/local/lib/python3.6/dist-packages (0.1.2)\n",
            "Requirement already satisfied: pymongo in /usr/local/lib/python3.6/dist-packages (from hyperopt) (3.10.1)\n",
            "Requirement already satisfied: future in /usr/local/lib/python3.6/dist-packages (from hyperopt) (0.16.0)\n",
            "Requirement already satisfied: scipy in /usr/local/lib/python3.6/dist-packages (from hyperopt) (1.4.1)\n",
            "Requirement already satisfied: networkx in /usr/local/lib/python3.6/dist-packages (from hyperopt) (2.4)\n",
            "Requirement already satisfied: numpy in /usr/local/lib/python3.6/dist-packages (from hyperopt) (1.18.2)\n",
            "Requirement already satisfied: six in /usr/local/lib/python3.6/dist-packages (from hyperopt) (1.12.0)\n",
            "Requirement already satisfied: tqdm in /usr/local/lib/python3.6/dist-packages (from hyperopt) (4.38.0)\n",
            "Requirement already satisfied: decorator>=4.3.0 in /usr/local/lib/python3.6/dist-packages (from networkx->hyperopt) (4.4.2)\n"
          ],
          "name": "stdout"
        }
      ]
    },
    {
      "cell_type": "code",
      "metadata": {
        "id": "UBBMssyA8Fk8",
        "colab_type": "code",
        "colab": {
          "base_uri": "https://localhost:8080/",
          "height": 50
        },
        "outputId": "d5174f6b-5232-4faf-8d76-e14ac2664c57"
      },
      "source": [
        "import pandas as pd\n",
        "import numpy as np\n",
        "import os\n",
        "import datetime\n",
        "\n",
        "import tensorflow as tf\n",
        "from tensorflow.keras.models import Sequential\n",
        "from tensorflow.keras.layers import Conv2D, MaxPool2D, Dense, Flatten, Dropout\n",
        "from tensorflow.keras.utils import to_categorical\n",
        "\n",
        "import matplotlib.pyplot as plt\n",
        "from skimage import color, exposure\n",
        "from sklearn.metrics import accuracy_score\n",
        "from hyperopt import hp, STATUS_OK, tpe, Trials, fmin\n",
        "\n",
        "\n",
        "%load_ext tensorboard"
      ],
      "execution_count": 19,
      "outputs": [
        {
          "output_type": "stream",
          "text": [
            "The tensorboard extension is already loaded. To reload it, use:\n",
            "  %reload_ext tensorboard\n"
          ],
          "name": "stdout"
        }
      ]
    },
    {
      "cell_type": "code",
      "metadata": {
        "id": "WxwCrnUR8dlp",
        "colab_type": "code",
        "colab": {
          "base_uri": "https://localhost:8080/",
          "height": 33
        },
        "outputId": "4dfead87-956c-4c6e-cb8d-2e6c2d4f47e4"
      },
      "source": [
        "cd'/content/drive/My Drive/Colab Notebook/matrix/matrix_tree/dw_matrix_road_sign/data'"
      ],
      "execution_count": 3,
      "outputs": [
        {
          "output_type": "stream",
          "text": [
            "/content/drive/My Drive/Colab Notebook/matrix/matrix_tree/dw_matrix_road_sign/data\n"
          ],
          "name": "stdout"
        }
      ]
    },
    {
      "cell_type": "code",
      "metadata": {
        "id": "ahjfJIee8lyK",
        "colab_type": "code",
        "colab": {}
      },
      "source": [
        "train = pd.read_pickle('train.p')\n",
        "test = pd.read_pickle('test.p')\n",
        "\n",
        "[X_train, y_train] = train['features'], train['labels']\n",
        "[X_test, y_test] = test['features'], test['labels']"
      ],
      "execution_count": 0,
      "outputs": []
    },
    {
      "cell_type": "code",
      "metadata": {
        "id": "0QhHcW2rF0qB",
        "colab_type": "code",
        "colab": {}
      },
      "source": [
        "\n",
        "df=pd.read_csv('signnames.csv')\n",
        "labels = df.to_dict()['b']\n",
        "\n",
        "\n"
      ],
      "execution_count": 0,
      "outputs": []
    },
    {
      "cell_type": "code",
      "metadata": {
        "id": "ixTxO4czGBWr",
        "colab_type": "code",
        "colab": {}
      },
      "source": [
        "if y_train.ndim == 1: y_train = to_categorical(y_train)\n",
        "if y_test.ndim == 1: y_test = to_categorical(y_test)\n",
        "\n",
        "input_shape = X_train.shape[1:]\n",
        "num_classes = y_train.shape[1]"
      ],
      "execution_count": 0,
      "outputs": []
    },
    {
      "cell_type": "code",
      "metadata": {
        "id": "fv065p7VGgDj",
        "colab_type": "code",
        "colab": {}
      },
      "source": [
        "def train_model(model, X_train, y_train, params_fit={}):\n",
        "  model.compile(loss='categorical_crossentropy', optimizer='Adam', metrics=['accuracy'])\n",
        "  \n",
        "  logdir = os.path.join(\"logs\", datetime.datetime.now().strftime('%Y%m%d-%H%M%S'))\n",
        "  tensorboard_callback = tf.keras.callbacks.TensorBoard(logdir, histogram_freq=1)\n",
        "  model.fit(\n",
        "      X_train,\n",
        "      y_train,\n",
        "      batch_size=params_fit.get('batch_size', 128),  # rozmiar paczki\n",
        "      epochs=params_fit.get('epochs', 5),            # liczba iteracji\n",
        "      verbose=params_fit.get('verbose', 1),          # stan\n",
        "      validation_data=params_fit.get('validation_data', (X_train, y_train)),  # do krzywych uczenia się\n",
        "      callbacks=[tensorboard_callback]               # do wizualizacji\n",
        "  )\n",
        "  return model"
      ],
      "execution_count": 0,
      "outputs": []
    },
    {
      "cell_type": "code",
      "metadata": {
        "id": "eW-w0ru4Gspc",
        "colab_type": "code",
        "colab": {}
      },
      "source": [
        "\n",
        "def predict(model_trained, X_test, y_test, scoring=accuracy_score):\n",
        "  \n",
        "  y_test_norm = np.argmax(y_test, axis=1)\n",
        "\n",
        "  y_pred_prob = model_trained.predict(X_test)\n",
        "  y_pred = np.argmax(y_pred_prob, axis=1)\n",
        "\n",
        "  return scoring(y_test_norm, y_pred)"
      ],
      "execution_count": 0,
      "outputs": []
    },
    {
      "cell_type": "code",
      "metadata": {
        "id": "Ov3-ae2iG5Cp",
        "colab_type": "code",
        "colab": {}
      },
      "source": [
        "def get_cnn_v5(input_shape, num_classes):\n",
        "  return Sequential([\n",
        "    Conv2D(filters=32, kernel_size=(3,3), activation='relu', input_shape=input_shape),\n",
        "    Conv2D(filters=32, kernel_size=(3,3), activation='relu', padding='same'),\n",
        "    MaxPool2D(),\n",
        "    Dropout(0.3),\n",
        "    \n",
        "    Conv2D(filters=64, kernel_size=(3,3), activation='relu', padding='same'),\n",
        "    Conv2D(filters=64, kernel_size=(3,3), activation='relu'),\n",
        "    MaxPool2D(),\n",
        "    Dropout(0.3),\n",
        "\n",
        "    Conv2D(filters=64, kernel_size=(3,3), activation='relu', padding='same'),\n",
        "    Conv2D(filters=64, kernel_size=(3,3), activation='relu'),\n",
        "    MaxPool2D(),\n",
        "    Dropout(0.3),\n",
        "    \n",
        "    Flatten(),\n",
        "    \n",
        "    Dense(1024, activation='relu'),\n",
        "    Dropout(0.3),\n",
        "\n",
        "    Dense(1024, activation='relu'),\n",
        "    Dropout(0.3),\n",
        "    \n",
        "    Dense(num_classes, activation='softmax')\n",
        "  ])"
      ],
      "execution_count": 0,
      "outputs": []
    },
    {
      "cell_type": "code",
      "metadata": {
        "id": "BySGENuzHLlM",
        "colab_type": "code",
        "colab": {
          "base_uri": "https://localhost:8080/",
          "height": 216
        },
        "outputId": "e89f710b-1fb5-4f78-b2f9-b1bd9864e4ec"
      },
      "source": [
        "model = get_cnn_v5(input_shape, num_classes)\n",
        "model_trained = train_model(model, X_train, y_train)\n",
        "predict(model_trained, X_test, y_test)"
      ],
      "execution_count": 10,
      "outputs": [
        {
          "output_type": "stream",
          "text": [
            "Epoch 1/5\n",
            "272/272 [==============================] - 4s 15ms/step - loss: 2.6209 - accuracy: 0.2876 - val_loss: 1.0883 - val_accuracy: 0.6750\n",
            "Epoch 2/5\n",
            "272/272 [==============================] - 4s 14ms/step - loss: 0.9600 - accuracy: 0.6956 - val_loss: 0.2981 - val_accuracy: 0.8985\n",
            "Epoch 3/5\n",
            "272/272 [==============================] - 4s 14ms/step - loss: 0.4765 - accuracy: 0.8500 - val_loss: 0.1167 - val_accuracy: 0.9675\n",
            "Epoch 4/5\n",
            "272/272 [==============================] - 4s 14ms/step - loss: 0.3067 - accuracy: 0.9029 - val_loss: 0.0639 - val_accuracy: 0.9814\n",
            "Epoch 5/5\n",
            "272/272 [==============================] - 4s 14ms/step - loss: 0.2375 - accuracy: 0.9259 - val_loss: 0.0479 - val_accuracy: 0.9858\n"
          ],
          "name": "stdout"
        },
        {
          "output_type": "execute_result",
          "data": {
            "text/plain": [
              "0.9566893424036281"
            ]
          },
          "metadata": {
            "tags": []
          },
          "execution_count": 10
        }
      ]
    },
    {
      "cell_type": "code",
      "metadata": {
        "id": "PW7pLcTyH48Z",
        "colab_type": "code",
        "colab": {
          "base_uri": "https://localhost:8080/",
          "height": 50
        },
        "outputId": "1a647d97-04a0-4965-d091-4b59a0e080b6"
      },
      "source": [
        "model_trained.evaluate(X_test, y_test)"
      ],
      "execution_count": 11,
      "outputs": [
        {
          "output_type": "stream",
          "text": [
            "138/138 [==============================] - 0s 3ms/step - loss: 0.1919 - accuracy: 0.9567\n"
          ],
          "name": "stdout"
        },
        {
          "output_type": "execute_result",
          "data": {
            "text/plain": [
              "[0.191934734582901, 0.9566893577575684]"
            ]
          },
          "metadata": {
            "tags": []
          },
          "execution_count": 11
        }
      ]
    },
    {
      "cell_type": "code",
      "metadata": {
        "id": "oI1QfaZpKCQh",
        "colab_type": "code",
        "colab": {}
      },
      "source": [
        "def get_model(params):\n",
        "  return Sequential([\n",
        "    Conv2D(filters=32, kernel_size=(3,3), activation='relu', input_shape=input_shape),\n",
        "    Conv2D(filters=32, kernel_size=(3,3), activation='relu', padding='same'),\n",
        "    MaxPool2D(),\n",
        "    Dropout(params['dropout_cnn_block_1']),\n",
        "    \n",
        "    Conv2D(filters=64, kernel_size=(3,3), activation='relu', padding='same'),\n",
        "    Conv2D(filters=64, kernel_size=(3,3), activation='relu'),\n",
        "    MaxPool2D(),\n",
        "    Dropout(params['dropout_cnn_block_2']),\n",
        "    \n",
        "    Conv2D(filters=128, kernel_size=(3,3), activation='relu', padding='same'),\n",
        "    Conv2D(filters=128, kernel_size=(3,3), activation='relu'),\n",
        "    MaxPool2D(),\n",
        "    Dropout(params['dropout_cnn_block_3']),\n",
        "    \n",
        "    Flatten(),\n",
        "    \n",
        "    Dense(1024, activation='relu'),\n",
        "    Dropout(params['dropout_dense_block_1']),\n",
        "    \n",
        "    Dense(1024, activation='relu'),\n",
        "    Dropout(params['dropout_dense_block_2']),\n",
        "    \n",
        "    Dense(num_classes, activation='softmax')\n",
        "  ])"
      ],
      "execution_count": 0,
      "outputs": []
    },
    {
      "cell_type": "code",
      "metadata": {
        "id": "mJhJhJl6KHs-",
        "colab_type": "code",
        "colab": {
          "base_uri": "https://localhost:8080/",
          "height": 50
        },
        "outputId": "876be9c2-4563-4978-e3ee-56d523512fbf"
      },
      "source": [
        "\n",
        "model_trained.evaluate(X_test, y_test)\n"
      ],
      "execution_count": 33,
      "outputs": [
        {
          "output_type": "stream",
          "text": [
            "138/138 [==============================] - 0s 3ms/step - loss: 2.9406 - accuracy: 0.2224\n"
          ],
          "name": "stdout"
        },
        {
          "output_type": "execute_result",
          "data": {
            "text/plain": [
              "[2.940563678741455, 0.22244897484779358]"
            ]
          },
          "metadata": {
            "tags": []
          },
          "execution_count": 33
        }
      ]
    },
    {
      "cell_type": "code",
      "metadata": {
        "id": "Co5FWhYTNMUL",
        "colab_type": "code",
        "colab": {}
      },
      "source": [
        "def func_obj(params):\n",
        "  get_model(params)\n",
        "  model.compile(loss='categorical_crossentropy', optimizer='Adam', metrics=['accuracy'])\n",
        "  \n",
        "  model.fit(\n",
        "      X_train,\n",
        "      y_train,\n",
        "      batch_size=int(params.get('batch_size', 128)),  # rozmiar paczki\n",
        "      epochs=7,            # liczba iteracji\n",
        "      verbose=0,          # stan\n",
        "  )\n",
        "\n",
        "  score = model.evaluate(X_test, y_test,verbose=0)\n",
        "  accuracy = score[1]\n",
        "  print(params, 'accuracy={}'.format(accuracy))\n",
        "  return {'loss': -accuracy, 'status': STATUS_OK, 'model': model}"
      ],
      "execution_count": 0,
      "outputs": []
    },
    {
      "cell_type": "code",
      "metadata": {
        "id": "oy9Uoyc5NVFP",
        "colab_type": "code",
        "colab": {
          "base_uri": "https://localhost:8080/",
          "height": 1000
        },
        "outputId": "f38fe33b-7b09-4eee-e4fc-631ee475e7a9"
      },
      "source": [
        "space = {\n",
        "      'batch_size': hp.quniform('batch_size', 50, 200, 20),\n",
        "      'dropout_cnn_block_1': hp.uniform('dropout_cnn_block_1', 0.3, 0.5),\n",
        "      'dropout_cnn_block_2': hp.uniform('dropout_cnn_block_2', 0.3, 0.5),\n",
        "      'dropout_cnn_block_3': hp.uniform('dropout_cnn_block_3', 0.3, 0.5),\n",
        "      'dropout_dense_block_1': hp.uniform('dropout_dense_block_1', 0.3, 0.7),\n",
        "      'dropout_dense_block_2': hp.uniform('dropout_dense_block_2', 0.3, 0.7),\n",
        "}\n",
        "\n",
        "best = fmin( func_obj, space, tpe.suggest, 30, Trials())"
      ],
      "execution_count": 35,
      "outputs": [
        {
          "output_type": "stream",
          "text": [
            "{'batch_size': 60.0, 'dropout_cnn_block_1': 0.3850993453909563, 'dropout_cnn_block_2': 0.481949877198552, 'dropout_cnn_block_3': 0.36901017440842376, 'dropout_dense_block_1': 0.41831051893630966, 'dropout_dense_block_2': 0.5387693369955172}\n",
            "accuracy=0.054421767592430115\n",
            "{'batch_size': 60.0, 'dropout_cnn_block_1': 0.3605534699040267, 'dropout_cnn_block_2': 0.41147157620381386, 'dropout_cnn_block_3': 0.3632425170370843, 'dropout_dense_block_1': 0.5948156824388473, 'dropout_dense_block_2': 0.5197652262295871}\n",
            "accuracy=0.054421767592430115\n",
            "{'batch_size': 100.0, 'dropout_cnn_block_1': 0.48921440183977355, 'dropout_cnn_block_2': 0.3507046267038851, 'dropout_cnn_block_3': 0.31842895815157163, 'dropout_dense_block_1': 0.3895681058240207, 'dropout_dense_block_2': 0.42569979402964897}\n",
            "accuracy=0.054421767592430115\n",
            "{'batch_size': 180.0, 'dropout_cnn_block_1': 0.3206669070933507, 'dropout_cnn_block_2': 0.48341284982762084, 'dropout_cnn_block_3': 0.44099674023417124, 'dropout_dense_block_1': 0.6664711233888146, 'dropout_dense_block_2': 0.4171791965523939}\n",
            "accuracy=0.054421767592430115\n",
            "{'batch_size': 140.0, 'dropout_cnn_block_1': 0.3430538917361053, 'dropout_cnn_block_2': 0.4994583380824772, 'dropout_cnn_block_3': 0.45103310234239513, 'dropout_dense_block_1': 0.4990096152921536, 'dropout_dense_block_2': 0.3106062144603827}\n",
            "accuracy=0.054421767592430115\n",
            "{'batch_size': 100.0, 'dropout_cnn_block_1': 0.4540603106620458, 'dropout_cnn_block_2': 0.46620464948098944, 'dropout_cnn_block_3': 0.4530291851223285, 'dropout_dense_block_1': 0.6158934818996605, 'dropout_dense_block_2': 0.4221645167240423}\n",
            "accuracy=0.054421767592430115\n",
            "{'batch_size': 120.0, 'dropout_cnn_block_1': 0.3298710399962027, 'dropout_cnn_block_2': 0.47189756660472115, 'dropout_cnn_block_3': 0.48510974068767804, 'dropout_dense_block_1': 0.4835460831929237, 'dropout_dense_block_2': 0.4994392553344492}\n",
            "accuracy=0.054421767592430115\n",
            "{'batch_size': 80.0, 'dropout_cnn_block_1': 0.43817022565622604, 'dropout_cnn_block_2': 0.3554804436304279, 'dropout_cnn_block_3': 0.4406639957634416, 'dropout_dense_block_1': 0.41202479407775927, 'dropout_dense_block_2': 0.3617687889524521}\n",
            "accuracy=0.054421767592430115\n",
            "{'batch_size': 100.0, 'dropout_cnn_block_1': 0.3047741964640504, 'dropout_cnn_block_2': 0.32239096353994134, 'dropout_cnn_block_3': 0.47884809742085094, 'dropout_dense_block_1': 0.6231849610245206, 'dropout_dense_block_2': 0.6545603317531233}\n",
            "accuracy=0.054421767592430115\n",
            "{'batch_size': 60.0, 'dropout_cnn_block_1': 0.3368295367681373, 'dropout_cnn_block_2': 0.3418692136145651, 'dropout_cnn_block_3': 0.4891761410425535, 'dropout_dense_block_1': 0.430502271297626, 'dropout_dense_block_2': 0.5082004833270333}\n",
            "accuracy=0.054421767592430115\n",
            "{'batch_size': 180.0, 'dropout_cnn_block_1': 0.3672498900969026, 'dropout_cnn_block_2': 0.3474989106242265, 'dropout_cnn_block_3': 0.46105886192220946, 'dropout_dense_block_1': 0.3155779960695796, 'dropout_dense_block_2': 0.3060456262682341}\n",
            "accuracy=0.054421767592430115\n",
            "{'batch_size': 100.0, 'dropout_cnn_block_1': 0.46616774175108333, 'dropout_cnn_block_2': 0.41167024808930697, 'dropout_cnn_block_3': 0.4342054342364038, 'dropout_dense_block_1': 0.48934681128621305, 'dropout_dense_block_2': 0.5068641593691391}\n",
            "accuracy=0.054421767592430115\n",
            "{'batch_size': 180.0, 'dropout_cnn_block_1': 0.3188007291962865, 'dropout_cnn_block_2': 0.3016558292209473, 'dropout_cnn_block_3': 0.3746624899948271, 'dropout_dense_block_1': 0.4934779382470359, 'dropout_dense_block_2': 0.5616087718326928}\n",
            "accuracy=0.054421767592430115\n",
            "{'batch_size': 180.0, 'dropout_cnn_block_1': 0.30492397660894704, 'dropout_cnn_block_2': 0.42990215287207256, 'dropout_cnn_block_3': 0.3893129489336368, 'dropout_dense_block_1': 0.6239471615646288, 'dropout_dense_block_2': 0.30597705153438004}\n",
            "accuracy=0.054421767592430115\n",
            "{'batch_size': 60.0, 'dropout_cnn_block_1': 0.32972890549644845, 'dropout_cnn_block_2': 0.46392508888008066, 'dropout_cnn_block_3': 0.3718113184300443, 'dropout_dense_block_1': 0.42445553419081156, 'dropout_dense_block_2': 0.3807442267036402}\n",
            "accuracy=0.054421767592430115\n",
            "{'batch_size': 180.0, 'dropout_cnn_block_1': 0.37287697850894846, 'dropout_cnn_block_2': 0.30007339727545795, 'dropout_cnn_block_3': 0.3925306251891362, 'dropout_dense_block_1': 0.5400670297853404, 'dropout_dense_block_2': 0.4675831760028827}\n",
            "accuracy=0.054421767592430115\n",
            "{'batch_size': 80.0, 'dropout_cnn_block_1': 0.33019148837070394, 'dropout_cnn_block_2': 0.46759487288650436, 'dropout_cnn_block_3': 0.4835216027761155, 'dropout_dense_block_1': 0.46152540781811774, 'dropout_dense_block_2': 0.6044767337119634}\n",
            "accuracy=0.054421767592430115\n",
            "{'batch_size': 60.0, 'dropout_cnn_block_1': 0.4017349876091707, 'dropout_cnn_block_2': 0.39526406008597736, 'dropout_cnn_block_3': 0.43553948329649805, 'dropout_dense_block_1': 0.460384910514825, 'dropout_dense_block_2': 0.43524741515412674}\n",
            "accuracy=0.054421767592430115\n",
            "{'batch_size': 200.0, 'dropout_cnn_block_1': 0.4662766409915195, 'dropout_cnn_block_2': 0.47731288236392566, 'dropout_cnn_block_3': 0.3260586660466958, 'dropout_dense_block_1': 0.4638458112307934, 'dropout_dense_block_2': 0.6769825857372296}\n",
            "accuracy=0.054421767592430115\n",
            "{'batch_size': 180.0, 'dropout_cnn_block_1': 0.47076187455135965, 'dropout_cnn_block_2': 0.46628519113689976, 'dropout_cnn_block_3': 0.30333347884992345, 'dropout_dense_block_1': 0.5109677180213386, 'dropout_dense_block_2': 0.6351851595554616}\n",
            "accuracy=0.054421767592430115\n",
            "{'batch_size': 80.0, 'dropout_cnn_block_1': 0.4120351619821031, 'dropout_cnn_block_2': 0.3840841265199601, 'dropout_cnn_block_3': 0.41899941148325787, 'dropout_dense_block_1': 0.35213647047382246, 'dropout_dense_block_2': 0.5710826256560044}\n",
            "accuracy=0.054421767592430115\n",
            "{'batch_size': 140.0, 'dropout_cnn_block_1': 0.4219640365491687, 'dropout_cnn_block_2': 0.44197187931731635, 'dropout_cnn_block_3': 0.34715362849766584, 'dropout_dense_block_1': 0.36997193714930515, 'dropout_dense_block_2': 0.6695418682784539}\n",
            "accuracy=0.054421767592430115\n",
            "{'batch_size': 160.0, 'dropout_cnn_block_1': 0.3870098110141625, 'dropout_cnn_block_2': 0.4964039739839192, 'dropout_cnn_block_3': 0.3082489485027877, 'dropout_dense_block_1': 0.5570314608730786, 'dropout_dense_block_2': 0.6318137882624949}\n",
            "accuracy=0.054421767592430115\n",
            "{'batch_size': 80.0, 'dropout_cnn_block_1': 0.4163591843915777, 'dropout_cnn_block_2': 0.38322072780595406, 'dropout_cnn_block_3': 0.406223661757108, 'dropout_dense_block_1': 0.3130430313480853, 'dropout_dense_block_2': 0.5671439791124783}\n",
            "accuracy=0.054421767592430115\n",
            "{'batch_size': 140.0, 'dropout_cnn_block_1': 0.43058336438990813, 'dropout_cnn_block_2': 0.4389322477625543, 'dropout_cnn_block_3': 0.3484405663662937, 'dropout_dense_block_1': 0.37063104060478974, 'dropout_dense_block_2': 0.6980119469217541}\n",
            "accuracy=0.054421767592430115\n",
            "{'batch_size': 120.0, 'dropout_cnn_block_1': 0.3956378608637384, 'dropout_cnn_block_2': 0.49354751614135417, 'dropout_cnn_block_3': 0.3011446672588031, 'dropout_dense_block_1': 0.5536063146076217, 'dropout_dense_block_2': 0.6126494328825479}\n",
            "accuracy=0.054421767592430115\n",
            "{'batch_size': 80.0, 'dropout_cnn_block_1': 0.38230450320478826, 'dropout_cnn_block_2': 0.380213144689677, 'dropout_cnn_block_3': 0.4124531388408928, 'dropout_dense_block_1': 0.31758539521201695, 'dropout_dense_block_2': 0.5591724935420429}\n",
            "accuracy=0.054421767592430115\n",
            "{'batch_size': 140.0, 'dropout_cnn_block_1': 0.43524017653581504, 'dropout_cnn_block_2': 0.449827559423783, 'dropout_cnn_block_3': 0.3402147694876466, 'dropout_dense_block_1': 0.3386013742821808, 'dropout_dense_block_2': 0.4615057692218354}\n",
            "accuracy=0.054421767592430115\n",
            "{'batch_size': 120.0, 'dropout_cnn_block_1': 0.3965584556398168, 'dropout_cnn_block_2': 0.4901308282748526, 'dropout_cnn_block_3': 0.3588077123760165, 'dropout_dense_block_1': 0.5736232566202, 'dropout_dense_block_2': 0.5978270516769172}\n",
            "accuracy=0.054421767592430115\n",
            "{'batch_size': 60.0, 'dropout_cnn_block_1': 0.3584355192618184, 'dropout_cnn_block_2': 0.367553829603638, 'dropout_cnn_block_3': 0.41336008966576304, 'dropout_dense_block_1': 0.33496344067673506, 'dropout_dense_block_2': 0.5385270283681205}\n",
            "accuracy=0.054421767592430115\n",
            "100%|██████████| 30/30 [07:33<00:00, 15.12s/it, best loss: -0.054421767592430115]\n"
          ],
          "name": "stdout"
        }
      ]
    },
    {
      "cell_type": "code",
      "metadata": {
        "id": "XgmTtSPHNhbe",
        "colab_type": "code",
        "colab": {}
      },
      "source": [
        ""
      ],
      "execution_count": 0,
      "outputs": []
    }
  ]
}